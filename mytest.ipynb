{
  "nbformat": 4,
  "nbformat_minor": 0,
  "metadata": {
    "colab": {
      "provenance": [],
      "gpuType": "T4",
      "authorship_tag": "ABX9TyN5Fa6Z8quyYaVKmGRSqzTy",
      "include_colab_link": true
    },
    "kernelspec": {
      "name": "python3",
      "display_name": "Python 3"
    },
    "language_info": {
      "name": "python"
    },
    "accelerator": "GPU"
  },
  "cells": [
    {
      "cell_type": "markdown",
      "metadata": {
        "id": "view-in-github",
        "colab_type": "text"
      },
      "source": [
        "<a href=\"https://colab.research.google.com/github/tomatox/action-tutorial/blob/main/mytest.ipynb\" target=\"_parent\"><img src=\"https://colab.research.google.com/assets/colab-badge.svg\" alt=\"Open In Colab\"/></a>"
      ]
    },
    {
      "cell_type": "code",
      "source": [],
      "metadata": {
        "id": "gs_Oj0iupkeP"
      },
      "execution_count": null,
      "outputs": []
    },
    {
      "cell_type": "code",
      "source": [
        "import torch\n",
        "\n",
        "torch.__version__\n"
      ],
      "metadata": {
        "id": "uM0vLo0L24Ji",
        "colab": {
          "base_uri": "https://localhost:8080/",
          "height": 35
        },
        "outputId": "3f674f76-59fe-45b1-86ee-6b78802bcf15"
      },
      "execution_count": null,
      "outputs": [
        {
          "output_type": "execute_result",
          "data": {
            "text/plain": [
              "'2.3.1+cu121'"
            ],
            "application/vnd.google.colaboratory.intrinsic+json": {
              "type": "string"
            }
          },
          "metadata": {},
          "execution_count": 2
        }
      ]
    },
    {
      "cell_type": "code",
      "source": [
        "x = torch.empty(4, 2)\n",
        "print(x)"
      ],
      "metadata": {
        "colab": {
          "base_uri": "https://localhost:8080/"
        },
        "id": "e3Yn5VN48NpC",
        "outputId": "06c34b77-3ad4-4ae7-f4cf-0bdec147eaff"
      },
      "execution_count": null,
      "outputs": [
        {
          "output_type": "stream",
          "name": "stdout",
          "text": [
            "tensor([[8.4951e+20, 2.6393e-09],\n",
            "        [2.1707e-18, 1.6678e+19],\n",
            "        [7.0976e+22, 2.1715e-18],\n",
            "        [3.0135e+29, 1.7610e+19]])\n"
          ]
        }
      ]
    },
    {
      "cell_type": "code",
      "source": [
        "x = torch.rand(4, 2)\n",
        "print(x)"
      ],
      "metadata": {
        "colab": {
          "base_uri": "https://localhost:8080/"
        },
        "id": "sT4_jcMf8Yw0",
        "outputId": "f11d2bc5-47c4-4bf4-aaec-d164a559d660"
      },
      "execution_count": null,
      "outputs": [
        {
          "output_type": "stream",
          "name": "stdout",
          "text": [
            "tensor([[0.4791, 0.8921],\n",
            "        [0.9416, 0.8520],\n",
            "        [0.3290, 0.1845],\n",
            "        [0.5365, 0.9374]])\n"
          ]
        }
      ]
    },
    {
      "cell_type": "code",
      "source": [
        "x = torch.zeros(4, 2, dtype=torch.long)\n",
        "print(x)"
      ],
      "metadata": {
        "colab": {
          "base_uri": "https://localhost:8080/"
        },
        "id": "oJY64hA58f_G",
        "outputId": "779e64a8-d883-4c02-fcd6-3c769a0b290d"
      },
      "execution_count": null,
      "outputs": [
        {
          "output_type": "stream",
          "name": "stdout",
          "text": [
            "tensor([[0, 0],\n",
            "        [0, 0],\n",
            "        [0, 0],\n",
            "        [0, 0]])\n"
          ]
        }
      ]
    },
    {
      "cell_type": "code",
      "source": [
        "x = torch.tensor([3.,2,3])\n",
        "print(x)"
      ],
      "metadata": {
        "colab": {
          "base_uri": "https://localhost:8080/"
        },
        "id": "WR3TUkHJ8rOZ",
        "outputId": "cc340424-e16d-4dda-95df-c562163bf231"
      },
      "execution_count": null,
      "outputs": [
        {
          "output_type": "stream",
          "name": "stdout",
          "text": [
            "tensor([3., 2., 3.])\n"
          ]
        }
      ]
    },
    {
      "cell_type": "code",
      "source": [
        "x = x.new_ones(2, 4, dtype=torch.double)\n",
        "print(x)"
      ],
      "metadata": {
        "colab": {
          "base_uri": "https://localhost:8080/"
        },
        "id": "se1PqJxQ8-6N",
        "outputId": "62c644f1-a477-4b6b-af13-b796bbd6b0eb"
      },
      "execution_count": null,
      "outputs": [
        {
          "output_type": "stream",
          "name": "stdout",
          "text": [
            "tensor([[1., 1., 1., 1.],\n",
            "        [1., 1., 1., 1.]], dtype=torch.float64)\n"
          ]
        }
      ]
    },
    {
      "cell_type": "code",
      "source": [
        "x = torch.randn_like(x, dtype=torch.float)\n",
        "print(x)"
      ],
      "metadata": {
        "colab": {
          "base_uri": "https://localhost:8080/"
        },
        "id": "Mn0pa9acSIrt",
        "outputId": "8f988eae-b5a9-4d64-b193-3ff89a1b851a"
      },
      "execution_count": null,
      "outputs": [
        {
          "output_type": "stream",
          "name": "stdout",
          "text": [
            "tensor([[-1.2476, -0.4038, -1.0681, -0.3704],\n",
            "        [ 0.3167, -1.0763,  0.8601,  0.5242]])\n"
          ]
        }
      ]
    },
    {
      "cell_type": "code",
      "source": [
        "x.size()"
      ],
      "metadata": {
        "colab": {
          "base_uri": "https://localhost:8080/",
          "height": 147
        },
        "id": "TuCmhBuZSWK7",
        "outputId": "2d45b333-f5e5-4d6b-803d-5951bc37f973"
      },
      "execution_count": null,
      "outputs": [
        {
          "output_type": "error",
          "ename": "NameError",
          "evalue": "name 'x' is not defined",
          "traceback": [
            "\u001b[0;31m---------------------------------------------------------------------------\u001b[0m",
            "\u001b[0;31mNameError\u001b[0m                                 Traceback (most recent call last)",
            "\u001b[0;32m<ipython-input-1-a558c16e0f1a>\u001b[0m in \u001b[0;36m<cell line: 1>\u001b[0;34m()\u001b[0m\n\u001b[0;32m----> 1\u001b[0;31m \u001b[0mx\u001b[0m\u001b[0;34m.\u001b[0m\u001b[0msize\u001b[0m\u001b[0;34m(\u001b[0m\u001b[0;34m)\u001b[0m\u001b[0;34m\u001b[0m\u001b[0;34m\u001b[0m\u001b[0m\n\u001b[0m",
            "\u001b[0;31mNameError\u001b[0m: name 'x' is not defined"
          ]
        }
      ]
    },
    {
      "cell_type": "code",
      "source": [
        "ft = torch.FloatTensor([1,2,3])\n",
        "print(ft)\n",
        "print(ft.dtype)"
      ],
      "metadata": {
        "colab": {
          "base_uri": "https://localhost:8080/"
        },
        "id": "xzuisLY3Teil",
        "outputId": "37129215-2ded-4d61-8087-c54585416ccf"
      },
      "execution_count": null,
      "outputs": [
        {
          "output_type": "stream",
          "name": "stdout",
          "text": [
            "tensor([1., 2., 3.])\n",
            "torch.float32\n"
          ]
        }
      ]
    },
    {
      "cell_type": "code",
      "source": [
        "print(ft.short())"
      ],
      "metadata": {
        "colab": {
          "base_uri": "https://localhost:8080/"
        },
        "id": "S9C4T7UeTt4E",
        "outputId": "844644d3-ba79-40d6-860e-f5162e16dfbb"
      },
      "execution_count": null,
      "outputs": [
        {
          "output_type": "stream",
          "name": "stdout",
          "text": [
            "tensor([1, 2, 3], dtype=torch.int16)\n"
          ]
        }
      ]
    },
    {
      "cell_type": "code",
      "source": [
        "print(ft.int())"
      ],
      "metadata": {
        "colab": {
          "base_uri": "https://localhost:8080/"
        },
        "id": "5eIHU0wFT5UE",
        "outputId": "d17209e7-ee65-4250-d2f5-0d737cd096b0"
      },
      "execution_count": null,
      "outputs": [
        {
          "output_type": "stream",
          "name": "stdout",
          "text": [
            "tensor([1, 2, 3], dtype=torch.int32)\n"
          ]
        }
      ]
    },
    {
      "cell_type": "markdown",
      "source": [],
      "metadata": {
        "id": "1sJpxvJMBU92"
      }
    },
    {
      "cell_type": "code",
      "source": [
        "it = torch.IntTensor([1,2,3])\n",
        "print(it)\n",
        "print(it.dtype)\n",
        "print(it.float())\n",
        "print(it.long())"
      ],
      "metadata": {
        "colab": {
          "base_uri": "https://localhost:8080/"
        },
        "id": "Jg5P4AgNT_eG",
        "outputId": "d9811362-ec58-4795-be94-89db06270ab6"
      },
      "execution_count": null,
      "outputs": [
        {
          "output_type": "stream",
          "name": "stdout",
          "text": [
            "tensor([1, 2, 3], dtype=torch.int32)\n",
            "torch.int32\n",
            "tensor([1., 2., 3.])\n",
            "tensor([1, 2, 3])\n"
          ]
        }
      ]
    },
    {
      "cell_type": "code",
      "source": [
        "x = torch.randn(1)\n",
        "print(x)\n",
        "print(x.item())\n",
        "print(x.dtype)"
      ],
      "metadata": {
        "colab": {
          "base_uri": "https://localhost:8080/"
        },
        "id": "f3JIayffUWPx",
        "outputId": "ebd623d0-91f6-47a9-a0a4-223622437352"
      },
      "execution_count": null,
      "outputs": [
        {
          "output_type": "stream",
          "name": "stdout",
          "text": [
            "tensor([-0.2839])\n",
            "-0.28393837809562683\n",
            "torch.float32\n"
          ]
        }
      ]
    },
    {
      "cell_type": "code",
      "source": [
        "import torch\n",
        "x = torch.randn(1)\n",
        "device = torch.device('cuda' if torch.cuda.is_available() else 'cpu')\n",
        "print(device)\n",
        "y = torch.ones_like(x, device=device)\n",
        "print(y)\n",
        "x = x.to(device)\n",
        "print(x)\n",
        "z = x + y\n",
        "print(z)\n",
        "print(z.to('cpu', torch.double))"
      ],
      "metadata": {
        "colab": {
          "base_uri": "https://localhost:8080/"
        },
        "id": "87k-akyF18YZ",
        "outputId": "88274aaa-3251-4147-93ee-6289f4c83f97"
      },
      "execution_count": null,
      "outputs": [
        {
          "output_type": "stream",
          "name": "stdout",
          "text": [
            "cpu\n",
            "tensor([1.])\n",
            "tensor([0.3772])\n",
            "tensor([1.3772])\n",
            "tensor([1.3772], dtype=torch.float64)\n"
          ]
        }
      ]
    },
    {
      "cell_type": "markdown",
      "source": [],
      "metadata": {
        "id": "YU7C0ak4J_La"
      }
    },
    {
      "cell_type": "code",
      "source": [
        "import torch\n",
        "\n",
        "t3 = torch.tensor([[[1,2,3],[4,5,6],[7,8,9]],[[1,2,3],[4,5,6],[7,8,9]],[[1,2,3],[4,5,6],[7,8,9]]])\n",
        "print(t3.ndim)\n",
        "print(t3.shape)\n",
        "print(t3)\n"
      ],
      "metadata": {
        "colab": {
          "base_uri": "https://localhost:8080/"
        },
        "id": "8dnM0IFINusr",
        "outputId": "203fa6b1-f080-4d02-8210-296e3fbbdc27"
      },
      "execution_count": null,
      "outputs": [
        {
          "output_type": "stream",
          "name": "stdout",
          "text": [
            "3\n",
            "torch.Size([3, 3, 3])\n",
            "tensor([[[1, 2, 3],\n",
            "         [4, 5, 6],\n",
            "         [7, 8, 9]],\n",
            "\n",
            "        [[1, 2, 3],\n",
            "         [4, 5, 6],\n",
            "         [7, 8, 9]],\n",
            "\n",
            "        [[1, 2, 3],\n",
            "         [4, 5, 6],\n",
            "         [7, 8, 9]]])\n"
          ]
        }
      ]
    },
    {
      "cell_type": "code",
      "source": [
        "import math\n",
        "a = torch.rand(1,2)\n",
        "print(a)"
      ],
      "metadata": {
        "colab": {
          "base_uri": "https://localhost:8080/"
        },
        "id": "poYwZyY2VSUY",
        "outputId": "1463c971-f0a6-40a7-b05a-8241461d1807"
      },
      "execution_count": null,
      "outputs": [
        {
          "output_type": "stream",
          "name": "stdout",
          "text": [
            "tensor([[0.8854, 0.2997]])\n"
          ]
        }
      ]
    },
    {
      "cell_type": "code",
      "source": [
        "import torch\n",
        "import math\n",
        "\n",
        "a = torch.rand(1,2) * 2 - 1\n",
        "print(a)\n",
        "print(torch.abs(a))\n",
        "print(torch.ceil(a))\n",
        "print(torch.floor(a))\n",
        "print(torch.clamp(a, -0.5, 0.5))\n",
        "print(torch.min(a))\n",
        "print(torch.max(a))\n",
        "print(torch.mean(a))\n",
        "print(torch.std(a))\n",
        "print(torch.prod(a))\n",
        "print(torch.unique(torch.tensor([1,2,3,1,2,2])))"
      ],
      "metadata": {
        "colab": {
          "base_uri": "https://localhost:8080/"
        },
        "id": "mDeXp-oI9Ev3",
        "outputId": "be72004a-8a6e-4b67-d648-0892d83ec2db"
      },
      "execution_count": null,
      "outputs": [
        {
          "output_type": "stream",
          "name": "stdout",
          "text": [
            "tensor([[0.7423, 0.2432]])\n",
            "tensor([[0.7423, 0.2432]])\n",
            "tensor([[1., 1.]])\n",
            "tensor([[0., 0.]])\n",
            "tensor([[0.5000, 0.2432]])\n",
            "tensor(0.2432)\n",
            "tensor(0.7423)\n",
            "tensor(0.4928)\n",
            "tensor(0.3529)\n",
            "tensor(0.1805)\n",
            "tensor([1, 2, 3])\n"
          ]
        }
      ]
    },
    {
      "cell_type": "code",
      "source": [
        "x = torch.rand(2,2)\n",
        "print(x)\n",
        "print(x.max(dim=0))\n",
        "print(x.max(dim=1))"
      ],
      "metadata": {
        "colab": {
          "base_uri": "https://localhost:8080/"
        },
        "id": "QF-VQy_xDKVs",
        "outputId": "7fc239bf-b157-4010-f1d9-861e1819f5f3"
      },
      "execution_count": null,
      "outputs": [
        {
          "output_type": "stream",
          "name": "stdout",
          "text": [
            "tensor([[0.4318, 0.0980],\n",
            "        [0.6110, 0.6719]])\n",
            "torch.return_types.max(\n",
            "values=tensor([0.6110, 0.6719]),\n",
            "indices=tensor([1, 1]))\n",
            "torch.return_types.max(\n",
            "values=tensor([0.4318, 0.6719]),\n",
            "indices=tensor([0, 1]))\n"
          ]
        }
      ]
    },
    {
      "cell_type": "code",
      "source": [
        "x = torch.rand(2,2)\n",
        "print(x)\n",
        "y = torch.rand(2,2)\n",
        "print(y)\n",
        "print(x+y)\n",
        "result = torch.empty(2, 2)\n",
        "torch.add(x, y, out=result)\n",
        "print(result)"
      ],
      "metadata": {
        "colab": {
          "base_uri": "https://localhost:8080/"
        },
        "id": "qXzWDG8GD9zE",
        "outputId": "a7b00386-9731-4104-eebb-629abadb7285"
      },
      "execution_count": null,
      "outputs": [
        {
          "output_type": "stream",
          "name": "stdout",
          "text": [
            "tensor([[0.2038, 0.6684],\n",
            "        [0.4939, 0.8191]])\n",
            "tensor([[0.8745, 0.3796],\n",
            "        [0.4489, 0.0150]])\n",
            "tensor([[1.0783, 1.0479],\n",
            "        [0.9428, 0.8342]])\n",
            "tensor([[1.0783, 1.0479],\n",
            "        [0.9428, 0.8342]])\n"
          ]
        }
      ]
    },
    {
      "cell_type": "code",
      "source": [
        "import torch\n",
        "x = torch.rand(2,2)\n",
        "y = torch.rand(2,2)\n",
        "print(x)\n",
        "print(y)\n",
        "y.add_(x)\n",
        "print(x/y)\n",
        "print(torch.matmul(x, y))\n",
        "print(x.matmul(y))"
      ],
      "metadata": {
        "colab": {
          "base_uri": "https://localhost:8080/"
        },
        "id": "6Wbcw3kBFX2u",
        "outputId": "420d1f3f-becb-458e-951c-3c8067649a0b"
      },
      "execution_count": null,
      "outputs": [
        {
          "output_type": "stream",
          "name": "stdout",
          "text": [
            "tensor([[0.3249, 0.7912],\n",
            "        [0.3743, 0.0805]])\n",
            "tensor([[0.7415, 0.4851],\n",
            "        [0.8503, 0.6407]])\n",
            "tensor([[0.3046, 0.6199],\n",
            "        [0.3057, 0.1116]])\n",
            "tensor([[1.3154, 0.9852],\n",
            "        [0.4977, 0.5358]])\n",
            "tensor([[1.3154, 0.9852],\n",
            "        [0.4977, 0.5358]])\n"
          ]
        }
      ]
    },
    {
      "cell_type": "code",
      "source": [
        "x = torch.Tensor([[1,2],[3,4]])\n",
        "\n",
        "print(x)\n",
        "print(x[0,1])\n",
        "print(x[1,1])\n",
        "print(x.view)"
      ],
      "metadata": {
        "colab": {
          "base_uri": "https://localhost:8080/"
        },
        "id": "4FTt7bI2tmK_",
        "outputId": "b7b75d2b-b953-4cbe-a5cb-f9d632e99bbd"
      },
      "execution_count": null,
      "outputs": [
        {
          "output_type": "stream",
          "name": "stdout",
          "text": [
            "tensor([[1., 2.],\n",
            "        [3., 4.]])\n",
            "tensor(2.)\n",
            "tensor(4.)\n"
          ]
        }
      ]
    },
    {
      "cell_type": "code",
      "source": [],
      "metadata": {
        "id": "JeD-LgnEF4Sm"
      },
      "execution_count": null,
      "outputs": []
    },
    {
      "cell_type": "code",
      "source": [],
      "metadata": {
        "id": "KOMd4XooF5QK"
      },
      "execution_count": null,
      "outputs": []
    },
    {
      "cell_type": "code",
      "source": [
        "x = torch.randn(4,5)\n",
        "print(x)\n",
        "y = x.view(20)\n",
        "print(y)\n",
        "z = x.view(5, -1)\n",
        "print(z)"
      ],
      "metadata": {
        "colab": {
          "base_uri": "https://localhost:8080/"
        },
        "id": "GkChvi1AFRYi",
        "outputId": "0e6b0c5a-cba1-43b8-9ac6-8c866705f6cb"
      },
      "execution_count": null,
      "outputs": [
        {
          "output_type": "stream",
          "name": "stdout",
          "text": [
            "tensor([[-0.0788, -0.5684,  0.7143, -1.1479,  0.1747],\n",
            "        [ 0.7185,  0.4521, -0.2190, -0.1188,  0.0125],\n",
            "        [ 1.9434,  0.5022,  1.3680, -0.6876,  0.7603],\n",
            "        [ 2.4773, -1.3345, -0.0455, -1.1690,  0.3736]])\n",
            "tensor([-0.0788, -0.5684,  0.7143, -1.1479,  0.1747,  0.7185,  0.4521, -0.2190,\n",
            "        -0.1188,  0.0125,  1.9434,  0.5022,  1.3680, -0.6876,  0.7603,  2.4773,\n",
            "        -1.3345, -0.0455, -1.1690,  0.3736])\n",
            "tensor([[-0.0788, -0.5684,  0.7143, -1.1479],\n",
            "        [ 0.1747,  0.7185,  0.4521, -0.2190],\n",
            "        [-0.1188,  0.0125,  1.9434,  0.5022],\n",
            "        [ 1.3680, -0.6876,  0.7603,  2.4773],\n",
            "        [-1.3345, -0.0455, -1.1690,  0.3736]])\n"
          ]
        }
      ]
    },
    {
      "cell_type": "code",
      "source": [
        "x = torch.randn(1)\n",
        "print(x)\n",
        "print(x.item())\n",
        "print(x.dtype)"
      ],
      "metadata": {
        "colab": {
          "base_uri": "https://localhost:8080/"
        },
        "id": "2Zrx9VXjF7xe",
        "outputId": "fede095c-8751-4c45-a9ce-d2d1e988d7b0"
      },
      "execution_count": null,
      "outputs": [
        {
          "output_type": "stream",
          "name": "stdout",
          "text": [
            "tensor([0.0117])\n",
            "0.011738608591258526\n",
            "torch.float32\n"
          ]
        }
      ]
    },
    {
      "cell_type": "code",
      "source": [
        "tensor = torch.randn(1,3, 3)\n",
        "print(tensor)\n",
        "print(tensor.shape)\n",
        "t = tensor.squeeze()\n",
        "print(t)\n",
        "print(t.shape)"
      ],
      "metadata": {
        "colab": {
          "base_uri": "https://localhost:8080/"
        },
        "id": "_2WDt37QGVrV",
        "outputId": "21fb8b9a-3b02-4779-a2e5-dc4a133c3627"
      },
      "execution_count": null,
      "outputs": [
        {
          "output_type": "stream",
          "name": "stdout",
          "text": [
            "tensor([[[-0.1919, -1.2124, -0.2923],\n",
            "         [-1.1582,  0.8375,  0.5500],\n",
            "         [ 0.4198,  0.1345,  0.2259]]])\n",
            "torch.Size([1, 3, 3])\n",
            "tensor([[-0.1919, -1.2124, -0.2923],\n",
            "        [-1.1582,  0.8375,  0.5500],\n",
            "        [ 0.4198,  0.1345,  0.2259]])\n",
            "torch.Size([3, 3])\n"
          ]
        }
      ]
    },
    {
      "cell_type": "code",
      "source": [
        "t = torch.randn(3, 3)\n",
        "print(t)\n",
        "print(t.shape)"
      ],
      "metadata": {
        "colab": {
          "base_uri": "https://localhost:8080/"
        },
        "id": "PZOK5a4RHLWp",
        "outputId": "5aaa00d9-40bd-4645-af49-1e3d06ba9400"
      },
      "execution_count": null,
      "outputs": [
        {
          "output_type": "stream",
          "name": "stdout",
          "text": [
            "tensor([[-0.0947, -0.7069,  0.4429],\n",
            "        [ 1.2230,  0.0943, -0.5733],\n",
            "        [-0.7452, -1.6973, -0.5298]])\n",
            "torch.Size([3, 3])\n"
          ]
        }
      ]
    },
    {
      "cell_type": "code",
      "source": [
        "tensor = t.unsqueeze(dim=2)\n",
        "print(t)\n",
        "print(t.shape)"
      ],
      "metadata": {
        "colab": {
          "base_uri": "https://localhost:8080/"
        },
        "id": "cuO2liT9HWdA",
        "outputId": "b7d2a645-1cc2-44c9-96a5-bd7f2e7b160a"
      },
      "execution_count": null,
      "outputs": [
        {
          "output_type": "stream",
          "name": "stdout",
          "text": [
            "tensor([[-0.0947, -0.7069,  0.4429],\n",
            "        [ 1.2230,  0.0943, -0.5733],\n",
            "        [-0.7452, -1.6973, -0.5298]])\n",
            "torch.Size([3, 3])\n"
          ]
        }
      ]
    },
    {
      "cell_type": "code",
      "source": [
        "x = torch.FloatTensor([1,4])\n",
        "print(x)\n",
        "y = torch.FloatTensor([2, 5])\n",
        "print(y)\n",
        "z = torch.FloatTensor([3, 6])\n",
        "print(z)\n",
        "print(torch.stack([x, y, z]))"
      ],
      "metadata": {
        "colab": {
          "base_uri": "https://localhost:8080/"
        },
        "id": "ndUBDKDzHzUp",
        "outputId": "efe7eccf-86a8-4aef-f9d7-e0e2b0f7d664"
      },
      "execution_count": null,
      "outputs": [
        {
          "output_type": "stream",
          "name": "stdout",
          "text": [
            "tensor([1., 4.])\n",
            "tensor([2., 5.])\n",
            "tensor([3., 6.])\n",
            "tensor([[1., 4.],\n",
            "        [2., 5.],\n",
            "        [3., 6.]])\n"
          ]
        }
      ]
    },
    {
      "cell_type": "code",
      "source": [
        "a = torch.randn(1,3, 3)\n",
        "print(a)\n",
        "b = torch.randn(1,3, 3)\n",
        "print(b)\n",
        "c = torch.cat((a, b), dim=0)\n",
        "print(c)\n",
        "print(c.size())"
      ],
      "metadata": {
        "colab": {
          "base_uri": "https://localhost:8080/"
        },
        "id": "fieKkaQ0I5M_",
        "outputId": "8d70322e-2704-4e8a-8e43-eec8495ea889"
      },
      "execution_count": null,
      "outputs": [
        {
          "output_type": "stream",
          "name": "stdout",
          "text": [
            "tensor([[[-0.6902,  1.3321,  0.5784],\n",
            "         [-0.5002,  1.7513, -1.2663],\n",
            "         [ 0.1987, -1.6068,  0.4255]]])\n",
            "tensor([[[ 0.7770,  1.4157, -1.5048],\n",
            "         [-0.3627,  0.8450, -1.3524],\n",
            "         [ 0.3161, -0.8743,  0.5678]]])\n",
            "tensor([[[-0.6902,  1.3321,  0.5784],\n",
            "         [-0.5002,  1.7513, -1.2663],\n",
            "         [ 0.1987, -1.6068,  0.4255]],\n",
            "\n",
            "        [[ 0.7770,  1.4157, -1.5048],\n",
            "         [-0.3627,  0.8450, -1.3524],\n",
            "         [ 0.3161, -0.8743,  0.5678]]])\n",
            "torch.Size([2, 3, 3])\n"
          ]
        }
      ]
    },
    {
      "cell_type": "code",
      "source": [
        "import torch\n",
        "\n",
        "t = torch.rand(3,6)\n",
        "print(t)\n",
        "t1, t2, t3 = torch.chunk(t, 3, dim=1)\n",
        "print(t1)\n",
        "print(t2)\n",
        "print(t3)"
      ],
      "metadata": {
        "colab": {
          "base_uri": "https://localhost:8080/"
        },
        "id": "-75R9qAYvZT8",
        "outputId": "096fa2c1-2b8c-4b5a-b339-77940be7b271"
      },
      "execution_count": null,
      "outputs": [
        {
          "output_type": "stream",
          "name": "stdout",
          "text": [
            "tensor([[0.6662, 0.4672, 0.2426, 0.0997, 0.0319, 0.0351],\n",
            "        [0.6375, 0.0887, 0.2755, 0.5937, 0.5363, 0.0464],\n",
            "        [0.3568, 0.5946, 0.6344, 0.5464, 0.1240, 0.7880]])\n",
            "tensor([[0.6662, 0.4672],\n",
            "        [0.6375, 0.0887],\n",
            "        [0.3568, 0.5946]])\n",
            "tensor([[0.2426, 0.0997],\n",
            "        [0.2755, 0.5937],\n",
            "        [0.6344, 0.5464]])\n",
            "tensor([[0.0319, 0.0351],\n",
            "        [0.5363, 0.0464],\n",
            "        [0.1240, 0.7880]])\n"
          ]
        }
      ]
    },
    {
      "cell_type": "code",
      "source": [
        "t = torch.rand(3,6)\n",
        "t1, t2 = torch.split(t, 3, dim=1)\n",
        "print(t)\n",
        "print(t1)\n",
        "print(t2)"
      ],
      "metadata": {
        "colab": {
          "base_uri": "https://localhost:8080/"
        },
        "id": "WQHcraL2wP3H",
        "outputId": "1fa882f7-1095-4d76-d6e4-ee558ccf0ad8"
      },
      "execution_count": null,
      "outputs": [
        {
          "output_type": "stream",
          "name": "stdout",
          "text": [
            "tensor([[0.4035, 0.2112, 0.1815, 0.2687, 0.1159, 0.7454],\n",
            "        [0.1833, 0.8023, 0.2555, 0.4437, 0.0175, 0.5202],\n",
            "        [0.5270, 0.9009, 0.0355, 0.2410, 0.6036, 0.5097]])\n",
            "tensor([[0.4035, 0.2112, 0.1815],\n",
            "        [0.1833, 0.8023, 0.2555],\n",
            "        [0.5270, 0.9009, 0.0355]])\n",
            "tensor([[0.2687, 0.1159, 0.7454],\n",
            "        [0.4437, 0.0175, 0.5202],\n",
            "        [0.2410, 0.6036, 0.5097]])\n"
          ]
        }
      ]
    },
    {
      "cell_type": "code",
      "source": [
        "a = torch.ones(7)\n",
        "print(a)\n",
        "b = a.numpy()\n",
        "print(b)\n",
        "a.add_(1)\n",
        "print(a)\n"
      ],
      "metadata": {
        "colab": {
          "base_uri": "https://localhost:8080/"
        },
        "id": "sEFm3XDpORFr",
        "outputId": "f99a4bf0-d6ad-4359-8c84-8621b692c704"
      },
      "execution_count": null,
      "outputs": [
        {
          "output_type": "stream",
          "name": "stdout",
          "text": [
            "tensor([1., 1., 1., 1., 1., 1., 1.])\n",
            "[1. 1. 1. 1. 1. 1. 1.]\n",
            "tensor([2., 2., 2., 2., 2., 2., 2.])\n"
          ]
        }
      ]
    },
    {
      "cell_type": "code",
      "source": [
        "import numpy as np, torch\n",
        "a = np.ones(7)\n",
        "print(a)\n",
        "b = torch.from_numpy(a)\n",
        "print(b)\n",
        "np.add(a, 1, out=a)"
      ],
      "metadata": {
        "colab": {
          "base_uri": "https://localhost:8080/"
        },
        "id": "zzsKox1I6HQn",
        "outputId": "71e9f72f-4b2f-43e8-fa13-c8c886174b97"
      },
      "execution_count": null,
      "outputs": [
        {
          "output_type": "stream",
          "name": "stdout",
          "text": [
            "[1. 1. 1. 1. 1. 1. 1.]\n",
            "tensor([1., 1., 1., 1., 1., 1., 1.], dtype=torch.float64)\n"
          ]
        },
        {
          "output_type": "execute_result",
          "data": {
            "text/plain": [
              "array([2., 2., 2., 2., 2., 2., 2.])"
            ]
          },
          "metadata": {},
          "execution_count": 6
        }
      ]
    },
    {
      "cell_type": "code",
      "source": [
        "import torch\n",
        "a = torch.rand(3,3)\n",
        "print(a)\n",
        "a = a * 3\n",
        "print(a, a.requires_grad)\n",
        "a.requires_grad_(True)\n",
        "#print(a.requires_grad)\n",
        "b = (a * a).sum()\n",
        "print(b)\n",
        "print(b.grad_fn)"
      ],
      "metadata": {
        "colab": {
          "base_uri": "https://localhost:8080/"
        },
        "id": "F5A0Kwh57ONc",
        "outputId": "d46ff6a1-975c-4a9e-92e5-acec9dc7888e"
      },
      "execution_count": null,
      "outputs": [
        {
          "output_type": "stream",
          "name": "stdout",
          "text": [
            "tensor([[0.5334, 0.5217, 0.2175],\n",
            "        [0.8406, 0.0757, 0.7441],\n",
            "        [0.4340, 0.7975, 0.6413]])\n",
            "tensor([[1.6002, 1.5652, 0.6524],\n",
            "        [2.5218, 0.2271, 2.2323],\n",
            "        [1.3020, 2.3925, 1.9238]]) False\n",
            "tensor(27.9507, grad_fn=<SumBackward0>)\n",
            "<SumBackward0 object at 0x7c2bf24edc30>\n"
          ]
        }
      ]
    },
    {
      "cell_type": "code",
      "source": [
        "x = torch.ones(3, 3, requires_grad=True)\n",
        "print(x)"
      ],
      "metadata": {
        "colab": {
          "base_uri": "https://localhost:8080/"
        },
        "id": "NhyIPqLwzIwC",
        "outputId": "77d977a4-64c9-49b7-c253-74816aafa2c7"
      },
      "execution_count": null,
      "outputs": [
        {
          "output_type": "stream",
          "name": "stdout",
          "text": [
            "tensor([[1., 1., 1.],\n",
            "        [1., 1., 1.],\n",
            "        [1., 1., 1.]], requires_grad=True)\n"
          ]
        }
      ]
    },
    {
      "cell_type": "code",
      "source": [
        "y = x + 5\n",
        "print(y)\n",
        "\n",
        "z = y * y\n",
        "out = z.mean()\n",
        "print(z, out)\n",
        "\n",
        "print(out)\n",
        "out.backward()\n",
        "#print(out)"
      ],
      "metadata": {
        "colab": {
          "base_uri": "https://localhost:8080/"
        },
        "id": "Tg2JWYj8ziXW",
        "outputId": "560e0b8c-35dc-4ac6-ac24-52854e0ed040"
      },
      "execution_count": null,
      "outputs": [
        {
          "output_type": "stream",
          "name": "stdout",
          "text": [
            "tensor([[6., 6., 6.],\n",
            "        [6., 6., 6.],\n",
            "        [6., 6., 6.]], grad_fn=<AddBackward0>)\n",
            "tensor([[36., 36., 36.],\n",
            "        [36., 36., 36.],\n",
            "        [36., 36., 36.]], grad_fn=<MulBackward0>) tensor(36., grad_fn=<MeanBackward0>)\n",
            "tensor(36., grad_fn=<MeanBackward0>)\n"
          ]
        }
      ]
    },
    {
      "cell_type": "code",
      "source": [
        "print(x)\n",
        "print(x.grad)"
      ],
      "metadata": {
        "colab": {
          "base_uri": "https://localhost:8080/"
        },
        "id": "VVIFzCpi02Jk",
        "outputId": "abad1bf9-0321-47f9-b8cc-b432043d742d"
      },
      "execution_count": null,
      "outputs": [
        {
          "output_type": "stream",
          "name": "stdout",
          "text": [
            "tensor([[1., 1., 1.],\n",
            "        [1., 1., 1.],\n",
            "        [1., 1., 1.]], requires_grad=True)\n",
            "tensor([[1.3333, 1.3333, 1.3333],\n",
            "        [1.3333, 1.3333, 1.3333],\n",
            "        [1.3333, 1.3333, 1.3333]])\n"
          ]
        }
      ]
    },
    {
      "cell_type": "code",
      "source": [
        "x = torch.randn(3, requires_grad=True)\n",
        "y = x * 2\n",
        "while y.data.norm() < 1000:\n",
        "  y = y * 2\n",
        "\n",
        "print(y)"
      ],
      "metadata": {
        "colab": {
          "base_uri": "https://localhost:8080/"
        },
        "id": "sIhHR9H7SGmw",
        "outputId": "2506665a-95f7-4f04-f50e-9a8db611b2c1"
      },
      "execution_count": null,
      "outputs": [
        {
          "output_type": "stream",
          "name": "stdout",
          "text": [
            "tensor([ 1501.9797, -1255.1791,   200.1699], grad_fn=<MulBackward0>)\n"
          ]
        }
      ]
    },
    {
      "cell_type": "code",
      "source": [
        "v = torch.tensor([0.1, 1.0, 0.001], dtype=torch.float)\n",
        "#y.backward(v)\n",
        "#print(x.grad)"
      ],
      "metadata": {
        "id": "uGruIO-dp5Pl"
      },
      "execution_count": null,
      "outputs": []
    },
    {
      "cell_type": "code",
      "source": [
        "print(x.requires_grad)\n",
        "print((x**2).requires_grad)\n",
        "\n"
      ],
      "metadata": {
        "colab": {
          "base_uri": "https://localhost:8080/"
        },
        "id": "O8Qgt566rsLf",
        "outputId": "2163c517-a87b-4c12-c791-d5f64dfb60fc"
      },
      "execution_count": null,
      "outputs": [
        {
          "output_type": "stream",
          "name": "stdout",
          "text": [
            "True\n",
            "True\n"
          ]
        }
      ]
    },
    {
      "cell_type": "code",
      "source": [
        "\n",
        "import torch\n",
        "a = torch.ones(2,2, requires_grad=True)\n",
        "print(a.data)\n",
        "print(a.grad)\n",
        "print(a.grad_fn)\n",
        "b = a + 2\n",
        "c = b ** 2\n",
        "print(c)\n",
        "out = c.sum()\n",
        "print(out)\n",
        "out.backward()"
      ],
      "metadata": {
        "colab": {
          "base_uri": "https://localhost:8080/"
        },
        "id": "U5noHoUmDSvT",
        "outputId": "cbd56890-8973-4a18-bf57-553cd59f4fc0"
      },
      "execution_count": null,
      "outputs": [
        {
          "output_type": "stream",
          "name": "stdout",
          "text": [
            "tensor([[1., 1.],\n",
            "        [1., 1.]])\n",
            "None\n",
            "None\n",
            "tensor([[9., 9.],\n",
            "        [9., 9.]], grad_fn=<PowBackward0>)\n",
            "tensor(36., grad_fn=<SumBackward0>)\n"
          ]
        }
      ]
    },
    {
      "cell_type": "code",
      "source": [
        "print(a.data)\n",
        "print(a.grad)\n",
        "print(a.grad_fn)"
      ],
      "metadata": {
        "colab": {
          "base_uri": "https://localhost:8080/"
        },
        "id": "an4_yjYkEl9p",
        "outputId": "78c750d6-14d1-44ec-83a7-15c6691f054d"
      },
      "execution_count": null,
      "outputs": [
        {
          "output_type": "stream",
          "name": "stdout",
          "text": [
            "tensor([[1., 1.],\n",
            "        [1., 1.]])\n",
            "tensor([[6., 6.],\n",
            "        [6., 6.]])\n",
            "None\n"
          ]
        }
      ]
    },
    {
      "cell_type": "code",
      "source": [
        "print(b.data)\n",
        "print(b.grad)\n",
        "print(b.grad_fn)"
      ],
      "metadata": {
        "colab": {
          "base_uri": "https://localhost:8080/"
        },
        "id": "ta_fXEpuESa4",
        "outputId": "1589d552-5693-42b6-d0f3-361e114b5254"
      },
      "execution_count": null,
      "outputs": [
        {
          "output_type": "stream",
          "name": "stdout",
          "text": [
            "tensor([[3., 3.],\n",
            "        [3., 3.]])\n",
            "None\n",
            "<AddBackward0 object at 0x7ce52d1d3550>\n"
          ]
        },
        {
          "output_type": "stream",
          "name": "stderr",
          "text": [
            "<ipython-input-11-7222c1aec66c>:2: UserWarning: The .grad attribute of a Tensor that is not a leaf Tensor is being accessed. Its .grad attribute won't be populated during autograd.backward(). If you indeed want the .grad field to be populated for a non-leaf Tensor, use .retain_grad() on the non-leaf Tensor. If you access the non-leaf Tensor by mistake, make sure you access the leaf Tensor instead. See github.com/pytorch/pytorch/pull/30531 for more informations. (Triggered internally at aten/src/ATen/core/TensorBody.h:489.)\n",
            "  print(b.grad)\n"
          ]
        }
      ]
    },
    {
      "cell_type": "code",
      "source": [
        "print(c.data)\n",
        "print(c.grad)\n",
        "print(c.grad_fn)"
      ],
      "metadata": {
        "colab": {
          "base_uri": "https://localhost:8080/"
        },
        "id": "xnRjOYjzE6Kx",
        "outputId": "26069311-e71d-4a21-ea7a-47c4b8357706"
      },
      "execution_count": null,
      "outputs": [
        {
          "output_type": "stream",
          "name": "stdout",
          "text": [
            "tensor([[9., 9.],\n",
            "        [9., 9.]])\n",
            "None\n",
            "<PowBackward0 object at 0x7ce462859870>\n"
          ]
        },
        {
          "output_type": "stream",
          "name": "stderr",
          "text": [
            "<ipython-input-12-f6ca42a4f63f>:2: UserWarning: The .grad attribute of a Tensor that is not a leaf Tensor is being accessed. Its .grad attribute won't be populated during autograd.backward(). If you indeed want the .grad field to be populated for a non-leaf Tensor, use .retain_grad() on the non-leaf Tensor. If you access the non-leaf Tensor by mistake, make sure you access the leaf Tensor instead. See github.com/pytorch/pytorch/pull/30531 for more informations. (Triggered internally at aten/src/ATen/core/TensorBody.h:489.)\n",
            "  print(c.grad)\n"
          ]
        }
      ]
    },
    {
      "cell_type": "markdown",
      "source": [],
      "metadata": {
        "id": "RSbBhkNdFDya"
      }
    },
    {
      "cell_type": "code",
      "source": [
        "print(out.data)\n",
        "print(out.grad)\n",
        "print(out.grad_fn)"
      ],
      "metadata": {
        "colab": {
          "base_uri": "https://localhost:8080/"
        },
        "id": "_j53hjtnFZcZ",
        "outputId": "78dbe89f-2bd0-445c-8eb9-dddb4d8e6f1a"
      },
      "execution_count": null,
      "outputs": [
        {
          "output_type": "stream",
          "name": "stdout",
          "text": [
            "tensor(36.)\n",
            "None\n",
            "<SumBackward0 object at 0x7ce52d1d3a30>\n"
          ]
        },
        {
          "output_type": "stream",
          "name": "stderr",
          "text": [
            "<ipython-input-14-85e75c577388>:2: UserWarning: The .grad attribute of a Tensor that is not a leaf Tensor is being accessed. Its .grad attribute won't be populated during autograd.backward(). If you indeed want the .grad field to be populated for a non-leaf Tensor, use .retain_grad() on the non-leaf Tensor. If you access the non-leaf Tensor by mistake, make sure you access the leaf Tensor instead. See github.com/pytorch/pytorch/pull/30531 for more informations. (Triggered internally at aten/src/ATen/core/TensorBody.h:489.)\n",
            "  print(out.grad)\n"
          ]
        }
      ]
    },
    {
      "cell_type": "code",
      "source": [],
      "metadata": {
        "id": "sVeMpL-cFjkF"
      },
      "execution_count": null,
      "outputs": []
    }
  ]
}